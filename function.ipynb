{
 "cells": [
  {
   "cell_type": "code",
   "execution_count": 1,
   "id": "38de13be-08fa-42fd-a9ca-d13df88ba532",
   "metadata": {},
   "outputs": [],
   "source": [
    "# question no1. What is the difference between a function and a method in Python?\n",
    "# answer:fuction--> A function is a block of code designed to perform a specific task. Functions can be defined at any level of a program and are not inherently tied to objectsor classes.\n",
    "# methods--> A method is a function that is associated with an object or class. Methods are defined within a class and are meant to operate on instances of that class or on the class itself\n",
    "#exaples of function and method:\n",
    "def sum():\n",
    "    a=1\n",
    "    b=1\n",
    "    return a+b\n"
   ]
  },
  {
   "cell_type": "code",
   "execution_count": 2,
   "id": "cfaa6d34-36c2-40b9-9658-0ec4f9a6a05a",
   "metadata": {},
   "outputs": [
    {
     "data": {
      "text/plain": [
       "2"
      ]
     },
     "execution_count": 2,
     "metadata": {},
     "output_type": "execute_result"
    }
   ],
   "source": [
    "sum()"
   ]
  },
  {
   "cell_type": "code",
   "execution_count": 4,
   "id": "b21dca44-2104-4ce9-986e-b04df943803e",
   "metadata": {},
   "outputs": [],
   "source": [
    "#method:\n",
    "class calculator:\n",
    "    def sum(self,x,y):\n",
    "        return x+y\n"
   ]
  },
  {
   "cell_type": "code",
   "execution_count": 8,
   "id": "b3a0dfd5-bb4c-4a15-912a-febde6b50f69",
   "metadata": {},
   "outputs": [],
   "source": [
    "cal=calculator()\n",
    "result=cal.sum(2,3)"
   ]
  },
  {
   "cell_type": "code",
   "execution_count": 9,
   "id": "64213d07-83d4-4c1c-8359-de049d16a315",
   "metadata": {},
   "outputs": [
    {
     "data": {
      "text/plain": [
       "5"
      ]
     },
     "execution_count": 9,
     "metadata": {},
     "output_type": "execute_result"
    }
   ],
   "source": [
    "result"
   ]
  },
  {
   "cell_type": "code",
   "execution_count": 10,
   "id": "c6993881-3cf4-41ab-a12f-d9156ea2ee92",
   "metadata": {},
   "outputs": [],
   "source": [
    "#question no 2. Explain the concept of function arguments and parameters in Python\n",
    "#answer:parameters-->Parameters are the variables listed in the function definition. They act as placeholders for the values that the function will receive when called.\n",
    "#arguments-->Arguments are the actual values passed to the function when it is called. They correspond to the parameters defined in the function.\n"
   ]
  },
  {
   "cell_type": "code",
   "execution_count": 18,
   "id": "bc73e4e3-d24e-401f-beed-be214f920a9d",
   "metadata": {},
   "outputs": [],
   "source": [
    "#question no 3. What are the different ways to define and call a function in Python?\n",
    "#answer:first method is the fuction in function and calling function from oputside\n"
   ]
  },
  {
   "cell_type": "code",
   "execution_count": 23,
   "id": "1baf10ce-7d05-4483-8ff3-dcdeee26adc0",
   "metadata": {},
   "outputs": [],
   "source": [
    "#question no 4. What is the purpose of the `return` statement in a Python function?\n",
    "# return statement is usde for gives the outeput for the function\n",
    "def sum():\n",
    "    a=23\n",
    "    b=23\n",
    "    return a+b\n",
    "\n"
   ]
  },
  {
   "cell_type": "code",
   "execution_count": 24,
   "id": "a1bc90f0-5b19-4c45-806b-152cee57279e",
   "metadata": {},
   "outputs": [],
   "source": [
    "sum1=sum()"
   ]
  },
  {
   "cell_type": "code",
   "execution_count": 25,
   "id": "cee0bf09-fc67-4f26-a73f-af8769e999c4",
   "metadata": {},
   "outputs": [
    {
     "data": {
      "text/plain": [
       "46"
      ]
     },
     "execution_count": 25,
     "metadata": {},
     "output_type": "execute_result"
    }
   ],
   "source": [
    "sum1"
   ]
  },
  {
   "cell_type": "code",
   "execution_count": 26,
   "id": "bc971543-34c1-4ab9-af19-93a981ec546f",
   "metadata": {},
   "outputs": [],
   "source": [
    "#question no 5. What are iterators in Python and how do they differ from iterables?\n",
    "#answer-->iterator--> iterator is object representing a stream of data return the data one by one  \n",
    "#iterables-->an iterable is any python object /sequential structure that is cabale to nreturn its member one at time "
   ]
  },
  {
   "cell_type": "code",
   "execution_count": 27,
   "id": "f731706a-9d62-4ef3-8af6-49348154e4f1",
   "metadata": {},
   "outputs": [],
   "source": [
    "#question no 6. Explain the concept of generators in Python and how they are defined.\n",
    "# answer--> genrators is acctually a function which is called as genrator function in regular fuction we use return as return type but in \n",
    "#in genrator function yield as the return type \n",
    "def square_number_genrator(n):\n",
    "    for i in range(n):\n",
    "        yield i*i"
   ]
  },
  {
   "cell_type": "code",
   "execution_count": 28,
   "id": "764d6aa9-45f5-4628-9721-39539cc63705",
   "metadata": {},
   "outputs": [],
   "source": [
    "gen=square_number_genrator(5)"
   ]
  },
  {
   "cell_type": "code",
   "execution_count": 30,
   "id": "d910b78a-ddfd-4eb0-8905-d7de0194643a",
   "metadata": {},
   "outputs": [
    {
     "data": {
      "text/plain": [
       "<generator object square_number_genrator at 0x754e04095e70>"
      ]
     },
     "execution_count": 30,
     "metadata": {},
     "output_type": "execute_result"
    }
   ],
   "source": [
    "gen"
   ]
  },
  {
   "cell_type": "code",
   "execution_count": 31,
   "id": "52061ff8-1e5b-4d8d-be4d-dce33630d771",
   "metadata": {},
   "outputs": [
    {
     "data": {
      "text/plain": [
       "0"
      ]
     },
     "execution_count": 31,
     "metadata": {},
     "output_type": "execute_result"
    }
   ],
   "source": [
    "next(gen)"
   ]
  },
  {
   "cell_type": "code",
   "execution_count": 33,
   "id": "4fbb2ac5-9ad1-41cc-b315-dd8fb0f4b142",
   "metadata": {},
   "outputs": [
    {
     "data": {
      "text/plain": [
       "1"
      ]
     },
     "execution_count": 33,
     "metadata": {},
     "output_type": "execute_result"
    }
   ],
   "source": [
    "next(gen)"
   ]
  },
  {
   "cell_type": "code",
   "execution_count": 34,
   "id": "72862842-3e25-42af-8e72-3f2225269e48",
   "metadata": {},
   "outputs": [
    {
     "data": {
      "text/plain": [
       "4"
      ]
     },
     "execution_count": 34,
     "metadata": {},
     "output_type": "execute_result"
    }
   ],
   "source": [
    "next(gen)"
   ]
  },
  {
   "cell_type": "code",
   "execution_count": 35,
   "id": "4d1b9b6d-2534-4402-861c-1dc11fe15e7e",
   "metadata": {},
   "outputs": [
    {
     "data": {
      "text/plain": [
       "9"
      ]
     },
     "execution_count": 35,
     "metadata": {},
     "output_type": "execute_result"
    }
   ],
   "source": [
    "next(gen)"
   ]
  },
  {
   "cell_type": "code",
   "execution_count": 36,
   "id": "631eafd6-675c-41df-a7d4-14dcea60509f",
   "metadata": {},
   "outputs": [
    {
     "data": {
      "text/plain": [
       "16"
      ]
     },
     "execution_count": 36,
     "metadata": {},
     "output_type": "execute_result"
    }
   ],
   "source": [
    "next(gen)"
   ]
  },
  {
   "cell_type": "code",
   "execution_count": 37,
   "id": "a817ff55-ab2b-4552-a228-4455f4155e37",
   "metadata": {},
   "outputs": [],
   "source": [
    "#question no 7. What are the advantages of using generators over regular functions?\n",
    "#Memory Efficiency: \n",
    "#1.Generators yield items one at a time and only when needed, reducing memory usage compared to regular functions that might create and store large collections of data.\n",
    "\n",
    "#2.Lazy Evaluation: Generators compute values on-the-fly, which can improve performance by avoiding unnecessary calculations and data storage.\n",
    "\n",
    "#3.Simplified Code: Generators can simplify code for iterating over sequences, avoiding the need for manual iterator management and state tracking.\n",
    "\n",
    "#4.Better Handling of Infinite Sequences: Generators can represent infinite sequences, allowing you to iterate through data that doesn't fit into memory or doesn't have a predetermined size.\n",
    "\n",
    "\n",
    "\n"
   ]
  },
  {
   "cell_type": "code",
   "execution_count": 38,
   "id": "0c4398bc-01f8-4681-9a42-c52537ab278e",
   "metadata": {},
   "outputs": [],
   "source": [
    "# question no 8. What is a lambda function in Python and when is it typically used?\n",
    "#answer-->\n",
    "# it is a type a function and  when we dont want a return type statement and def keyward \n",
    "sq_number=lambda x:x**2"
   ]
  },
  {
   "cell_type": "code",
   "execution_count": 39,
   "id": "37d05df1-4fdc-4718-a7d0-12d05758ca5f",
   "metadata": {},
   "outputs": [
    {
     "data": {
      "text/plain": [
       "4"
      ]
     },
     "execution_count": 39,
     "metadata": {},
     "output_type": "execute_result"
    }
   ],
   "source": [
    "sq_number(2)"
   ]
  },
  {
   "cell_type": "code",
   "execution_count": 41,
   "id": "c1068713-47ea-4aad-a2f4-f32ccf179855",
   "metadata": {},
   "outputs": [
    {
     "data": {
      "text/plain": [
       "[1, 4, 5, 6]"
      ]
     },
     "execution_count": 41,
     "metadata": {},
     "output_type": "execute_result"
    }
   ],
   "source": [
    "#question no 9. Explain the purpose and usage of the `map()` function in Python.\n",
    "#answer--> execution of specified function for each of item of an iterable\n",
    "l=[\"1\",\"4\",\"5\",\"6\"]\n",
    "list(map(lambda x:int(x),l))"
   ]
  },
  {
   "cell_type": "code",
   "execution_count": 42,
   "id": "bf3f3a44-ffe8-4a14-88b6-3db4e6b6b9c5",
   "metadata": {},
   "outputs": [
    {
     "data": {
      "text/plain": [
       "[1, 4, 5, 6]"
      ]
     },
     "execution_count": 42,
     "metadata": {},
     "output_type": "execute_result"
    }
   ],
   "source": [
    "#question no 10. What is the difference between `map()`, `reduce()`, and `filter()` functions in Python?\n",
    "#answer-->map() transforms each item in an iterable.\n",
    "#         reduce() combines items in an iterable into a single value.\n",
    "#         filter() selects items in an iterable based on a condition.\n",
    "#example of map():\n",
    "l=[\"1\",\"4\",\"5\",\"6\"]\n",
    "list(map(lambda x:int(x),l))\n",
    "\n"
   ]
  },
  {
   "cell_type": "code",
   "execution_count": 45,
   "id": "33891d2e-b06d-416a-986f-1320fb1c75b0",
   "metadata": {},
   "outputs": [
    {
     "ename": "NameError",
     "evalue": "name 'reduce' is not defined",
     "output_type": "error",
     "traceback": [
      "\u001b[0;31m---------------------------------------------------------------------------\u001b[0m",
      "\u001b[0;31mNameError\u001b[0m                                 Traceback (most recent call last)",
      "Cell \u001b[0;32mIn[45], line 3\u001b[0m\n\u001b[1;32m      1\u001b[0m \u001b[38;5;66;03m#example of reduce()\u001b[39;00m\n\u001b[1;32m      2\u001b[0m l\u001b[38;5;241m=\u001b[39m[\u001b[38;5;241m1\u001b[39m,\u001b[38;5;241m2\u001b[39m,\u001b[38;5;241m3\u001b[39m,\u001b[38;5;241m3\u001b[39m,\u001b[38;5;241m4\u001b[39m,\u001b[38;5;241m5\u001b[39m,\u001b[38;5;241m6\u001b[39m,\u001b[38;5;241m7\u001b[39m,\u001b[38;5;241m7\u001b[39m,\u001b[38;5;241m8\u001b[39m]\n\u001b[0;32m----> 3\u001b[0m \u001b[43mreduce\u001b[49m(\u001b[38;5;28;01mlambda\u001b[39;00m x,y:x\u001b[38;5;241m+\u001b[39my,l)\n",
      "\u001b[0;31mNameError\u001b[0m: name 'reduce' is not defined"
     ]
    }
   ],
   "source": [
    "#example of reduce()\n",
    "l=[1,2,3,3,4,5,6,7,7,8]\n",
    "reduce(lambda x,y:x+y,l)\n",
    "\n"
   ]
  },
  {
   "cell_type": "code",
   "execution_count": 46,
   "id": "2a72f4e7-ea55-4961-ac2a-8a1552cde39d",
   "metadata": {},
   "outputs": [
    {
     "data": {
      "text/plain": [
       "['anurag', 'abhishek']"
      ]
     },
     "execution_count": 46,
     "metadata": {},
     "output_type": "execute_result"
    }
   ],
   "source": [
    "#example of filter()\n",
    "s=[\"anurag\",\"ayush\",\"abhishek\"]\n",
    "list(filter(lambda x:len(x)>5,s))"
   ]
  },
  {
   "cell_type": "code",
   "execution_count": 65,
   "id": "dfcb8ed5-a690-4752-ae17-d9d6107f10e9",
   "metadata": {},
   "outputs": [
    {
     "ename": "NameError",
     "evalue": "name 'reduce' is not defined",
     "output_type": "error",
     "traceback": [
      "\u001b[0;31m---------------------------------------------------------------------------\u001b[0m",
      "\u001b[0;31mNameError\u001b[0m                                 Traceback (most recent call last)",
      "Cell \u001b[0;32mIn[65], line 4\u001b[0m\n\u001b[1;32m      1\u001b[0m \u001b[38;5;66;03m#Practical Question:\u001b[39;00m\n\u001b[1;32m      2\u001b[0m \u001b[38;5;66;03m#question no 1. Write a Python function that takes a list of numbers as input and returns the sum of all even numbers in the list.\u001b[39;00m\n\u001b[1;32m      3\u001b[0m l\u001b[38;5;241m=\u001b[39m[\u001b[38;5;241m1\u001b[39m,\u001b[38;5;241m2\u001b[39m,\u001b[38;5;241m3\u001b[39m,\u001b[38;5;241m4\u001b[39m,\u001b[38;5;241m5\u001b[39m,\u001b[38;5;241m6\u001b[39m,\u001b[38;5;241m7\u001b[39m,\u001b[38;5;241m8\u001b[39m,\u001b[38;5;241m9\u001b[39m]\n\u001b[0;32m----> 4\u001b[0m sum1\u001b[38;5;241m=\u001b[39m\u001b[43mreduce\u001b[49m(\u001b[38;5;28;01mlambda\u001b[39;00m x,y:x\u001b[38;5;241m+\u001b[39my,l)\n",
      "\u001b[0;31mNameError\u001b[0m: name 'reduce' is not defined"
     ]
    }
   ],
   "source": [
    "#Practical Question:\n",
    "#question no 1. Write a Python function that takes a list of numbers as input and returns the sum of all even numbers in the list.\n",
    "l=[1,2,3,4,5,6,7,8,9]\n",
    "sum1=reduce(lambda x,y:x+y,l)"
   ]
  },
  {
   "cell_type": "code",
   "execution_count": null,
   "id": "e390c098-c7a3-4128-bd53-a18ffad806a5",
   "metadata": {},
   "outputs": [],
   "source": [
    "#question no 2. Create a Python function that accepts a string and returns the reverse of that string.\n",
    " "
   ]
  },
  {
   "cell_type": "code",
   "execution_count": 71,
   "id": "1f0c744a-3367-436e-a826-af18d95fee7c",
   "metadata": {},
   "outputs": [],
   "source": [
    "#question no 3. Implement a Python function that takes a list of integers and returns a new list containing the squares of each number.\n",
    "def square_list(number):\n",
    "    return(i**2 for i in number)"
   ]
  },
  {
   "cell_type": "code",
   "execution_count": 78,
   "id": "34bc27d9-422a-464d-bbbb-5796ed602fb3",
   "metadata": {},
   "outputs": [
    {
     "ename": "TypeError",
     "evalue": "'generator' object is not callable",
     "output_type": "error",
     "traceback": [
      "\u001b[0;31m---------------------------------------------------------------------------\u001b[0m",
      "\u001b[0;31mTypeError\u001b[0m                                 Traceback (most recent call last)",
      "Cell \u001b[0;32mIn[78], line 2\u001b[0m\n\u001b[1;32m      1\u001b[0m list_number\u001b[38;5;241m=\u001b[39m[\u001b[38;5;241m1\u001b[39m,\u001b[38;5;241m2\u001b[39m,\u001b[38;5;241m3\u001b[39m,\u001b[38;5;241m4\u001b[39m,\u001b[38;5;241m5\u001b[39m,\u001b[38;5;241m67\u001b[39m,\u001b[38;5;241m8\u001b[39m,\u001b[38;5;241m9\u001b[39m]\n\u001b[0;32m----> 2\u001b[0m squared_list1 \u001b[38;5;241m=\u001b[39m \u001b[43msquare_list\u001b[49m\u001b[43m(\u001b[49m\u001b[43mlist_number\u001b[49m\u001b[43m)\u001b[49m\n\u001b[1;32m      3\u001b[0m square_list\n",
      "\u001b[0;31mTypeError\u001b[0m: 'generator' object is not callable"
     ]
    }
   ],
   "source": [
    "list_number=[1,2,3,4,5,67,8,9]\n",
    "squared_list1 = square_list(list_number)\n",
    "square_list"
   ]
  },
  {
   "cell_type": "code",
   "execution_count": null,
   "id": "764abd72-237b-4af8-a70f-8542e4d86543",
   "metadata": {},
   "outputs": [],
   "source": [
    "#question no 4. Write a Python function that checks if a given number is prime or not from 1 to 200.\n",
    "#answer-->\n",
    "def prime_numbers():\n",
    "    for(int i=0;i<=200;i++):\n",
    "        if(i)\n",
    "      "
   ]
  },
  {
   "cell_type": "code",
   "execution_count": 1,
   "id": "641644f9-2f35-45c6-a863-9ba28534ebb4",
   "metadata": {},
   "outputs": [],
   "source": [
    "#question no 5. Create an iterator class in Python that generates the Fibonacci sequence up to a specified number of terms\n",
    "#answer-->\n",
    "def fib(n):\n",
    "    a=0\n",
    "    b=1\n",
    "    for i in range (n):\n",
    "        yield a\n",
    "        a,b=b,a+b"
   ]
  },
  {
   "cell_type": "code",
   "execution_count": 2,
   "id": "216d5a9c-faab-4707-90f1-52d424543d23",
   "metadata": {},
   "outputs": [],
   "source": [
    "gen=fib(6)"
   ]
  },
  {
   "cell_type": "code",
   "execution_count": 3,
   "id": "9f5e89b5-884d-43db-bfa0-52e792cf65e7",
   "metadata": {},
   "outputs": [
    {
     "data": {
      "text/plain": [
       "<generator object fib at 0x7de0d50e17e0>"
      ]
     },
     "execution_count": 3,
     "metadata": {},
     "output_type": "execute_result"
    }
   ],
   "source": [
    "gen"
   ]
  },
  {
   "cell_type": "code",
   "execution_count": 4,
   "id": "f39b2916-defc-4adc-b0c4-30954c2415ef",
   "metadata": {},
   "outputs": [
    {
     "data": {
      "text/plain": [
       "0"
      ]
     },
     "execution_count": 4,
     "metadata": {},
     "output_type": "execute_result"
    }
   ],
   "source": [
    "next(gen)"
   ]
  },
  {
   "cell_type": "code",
   "execution_count": 5,
   "id": "94f12a9f-e9f4-40bc-b4f7-e6e6be635ec0",
   "metadata": {},
   "outputs": [
    {
     "data": {
      "text/plain": [
       "1"
      ]
     },
     "execution_count": 5,
     "metadata": {},
     "output_type": "execute_result"
    }
   ],
   "source": [
    "next(gen)"
   ]
  },
  {
   "cell_type": "code",
   "execution_count": 6,
   "id": "0d8550a8-4b32-4571-ba90-02526b09a446",
   "metadata": {},
   "outputs": [
    {
     "data": {
      "text/plain": [
       "1"
      ]
     },
     "execution_count": 6,
     "metadata": {},
     "output_type": "execute_result"
    }
   ],
   "source": [
    "next(gen)"
   ]
  },
  {
   "cell_type": "code",
   "execution_count": 7,
   "id": "945fce2a-3bd8-45a7-8074-f1e8b615a401",
   "metadata": {},
   "outputs": [
    {
     "data": {
      "text/plain": [
       "2"
      ]
     },
     "execution_count": 7,
     "metadata": {},
     "output_type": "execute_result"
    }
   ],
   "source": [
    "next(gen)"
   ]
  },
  {
   "cell_type": "code",
   "execution_count": 8,
   "id": "5eb58c75-3b3f-4f21-a168-ddf1afc9df93",
   "metadata": {},
   "outputs": [
    {
     "data": {
      "text/plain": [
       "3"
      ]
     },
     "execution_count": 8,
     "metadata": {},
     "output_type": "execute_result"
    }
   ],
   "source": [
    "next(gen)"
   ]
  },
  {
   "cell_type": "code",
   "execution_count": 9,
   "id": "405f6ee9-5aea-4723-a370-a3f88161e0fa",
   "metadata": {},
   "outputs": [
    {
     "data": {
      "text/plain": [
       "5"
      ]
     },
     "execution_count": 9,
     "metadata": {},
     "output_type": "execute_result"
    }
   ],
   "source": [
    "next(gen)"
   ]
  },
  {
   "cell_type": "code",
   "execution_count": 14,
   "id": "d53260a6-b5de-4494-8eaf-1ccf358d6adf",
   "metadata": {},
   "outputs": [],
   "source": [
    "#question no 6. Write a generator function in Python that yields the powers of 2 up to a given exponent.\n",
    "#anser-->\n",
    "def power_of_2(n):\n",
    "    for i in range (n):\n",
    "        yield 2**i"
   ]
  },
  {
   "cell_type": "code",
   "execution_count": 15,
   "id": "91181384-90b0-48af-ae92-706004a9c715",
   "metadata": {},
   "outputs": [],
   "source": [
    "gen=power_of_2(5)"
   ]
  },
  {
   "cell_type": "code",
   "execution_count": 16,
   "id": "fb109dd6-8c0d-4145-858b-e56f8c20896b",
   "metadata": {},
   "outputs": [
    {
     "data": {
      "text/plain": [
       "<generator object power_of_2 at 0x7de0cc60f5a0>"
      ]
     },
     "execution_count": 16,
     "metadata": {},
     "output_type": "execute_result"
    }
   ],
   "source": [
    "gen"
   ]
  },
  {
   "cell_type": "code",
   "execution_count": 17,
   "id": "b9a48c51-9670-424b-a3e3-28caa5c53006",
   "metadata": {},
   "outputs": [
    {
     "data": {
      "text/plain": [
       "1"
      ]
     },
     "execution_count": 17,
     "metadata": {},
     "output_type": "execute_result"
    }
   ],
   "source": [
    "next(gen)"
   ]
  },
  {
   "cell_type": "code",
   "execution_count": 18,
   "id": "b4036dba-c50f-4120-b30d-8fc43cca9f01",
   "metadata": {},
   "outputs": [
    {
     "data": {
      "text/plain": [
       "2"
      ]
     },
     "execution_count": 18,
     "metadata": {},
     "output_type": "execute_result"
    }
   ],
   "source": [
    "next(gen)"
   ]
  },
  {
   "cell_type": "code",
   "execution_count": 19,
   "id": "4497fdd9-ef04-4e5a-9e8e-569c1e99bd01",
   "metadata": {},
   "outputs": [
    {
     "data": {
      "text/plain": [
       "4"
      ]
     },
     "execution_count": 19,
     "metadata": {},
     "output_type": "execute_result"
    }
   ],
   "source": [
    "next(gen)"
   ]
  },
  {
   "cell_type": "code",
   "execution_count": 20,
   "id": "36ed637b-ec65-4ab5-a212-ca2dea6afc53",
   "metadata": {},
   "outputs": [
    {
     "data": {
      "text/plain": [
       "8"
      ]
     },
     "execution_count": 20,
     "metadata": {},
     "output_type": "execute_result"
    }
   ],
   "source": [
    "next(gen)"
   ]
  },
  {
   "cell_type": "code",
   "execution_count": 21,
   "id": "4b173906-57e2-47fb-9269-079675264586",
   "metadata": {},
   "outputs": [
    {
     "data": {
      "text/plain": [
       "16"
      ]
     },
     "execution_count": 21,
     "metadata": {},
     "output_type": "execute_result"
    }
   ],
   "source": [
    "next(gen)"
   ]
  },
  {
   "cell_type": "code",
   "execution_count": 23,
   "id": "cd27ddfc-43e9-440b-9be5-4fe49a2ed838",
   "metadata": {},
   "outputs": [],
   "source": [
    "#question no 7. Implement a generator function that reads a file line by line and yields each line as a string.\n",
    "#answer-->\n"
   ]
  },
  {
   "cell_type": "code",
   "execution_count": 35,
   "id": "05015e0e-05a3-4180-b76b-e054b73438d9",
   "metadata": {},
   "outputs": [
    {
     "name": "stdout",
     "output_type": "stream",
     "text": [
      "[(1, 2), (3, 4), (4, 5), (6, 7)]\n"
     ]
    }
   ],
   "source": [
    "#question no 8. Use a lambda function in Python to sort a list of tuples based on the second element of each tuple.\n",
    "#answer-->\n",
    "data=[(1,2),(3,4),(4,5),(6,7)]\n",
    "sorted_list=sorted(data,key=lambda x:x[1])\n",
    "print(sorted_list)\n"
   ]
  },
  {
   "cell_type": "code",
   "execution_count": 37,
   "id": "0459142a-34f8-4f33-832d-0dfa79ae97ee",
   "metadata": {},
   "outputs": [
    {
     "data": {
      "text/plain": [
       "[73.4, 93.2, 95.0, 109.4, 131.0]"
      ]
     },
     "execution_count": 37,
     "metadata": {},
     "output_type": "execute_result"
    }
   ],
   "source": [
    "#question no 9. Write a Python program that uses `map()` to convert a list of temperatures from Celsius to Fahrenheit.\n",
    "l=[23,34,35,43,55]\n",
    "list(map(lambda x: (9/5)*x+32,l))"
   ]
  },
  {
   "cell_type": "code",
   "execution_count": 5,
   "id": "8f021654-0607-43b9-9513-551a77c21333",
   "metadata": {},
   "outputs": [],
   "source": [
    "#question no 10. Create a Python program that uses `filter()` to remove all the vowels from a given string.\n",
    "#answer-->\n",
    "def notvowel(char):\n",
    "    vowel='aeiouAEIOU'\n",
    "    return char not in vowel\n",
    "def remove_vowel(input_string):\n",
    "    result_char=filter(notvowel,input_string)\n",
    "    resulted_char=''.join(result_char)\n",
    "    return resulted_char"
   ]
  },
  {
   "cell_type": "code",
   "execution_count": 6,
   "id": "8e3cee8a-f41e-4c7f-8402-63c3f8ea70fe",
   "metadata": {},
   "outputs": [],
   "source": [
    "input_string=\"Anurag\"\n",
    "output_char=remove_vowel(input_string)"
   ]
  },
  {
   "cell_type": "code",
   "execution_count": 8,
   "id": "cb165b2c-319b-47f3-82e6-ef9ff9a8cec2",
   "metadata": {},
   "outputs": [
    {
     "data": {
      "text/plain": [
       "'nrg'"
      ]
     },
     "execution_count": 8,
     "metadata": {},
     "output_type": "execute_result"
    }
   ],
   "source": [
    "output_char"
   ]
  },
  {
   "cell_type": "code",
   "execution_count": null,
   "id": "f03fa4d2-8889-476c-abb2-7563efa85ad4",
   "metadata": {},
   "outputs": [],
   "source": [
    "#Question no 1) Imagine an accounting routine used in a book shop. It works on a list with sublists, which look like this:\n",
    "#Write a Python program, which returns a list with 2-tuples. Each tuple consists of the order number and the\n",
    "#product of the price per item and the quantity. The product should be increased by 10,- € if the value of the\n",
    "#order is smaller than 100,00 €.\n",
    "#Write a Python program using lambda and map.\n",
    "#answer-->\n",
    "orders=[\n",
    "        [34587,'learning python',40.95,4]\n",
    "        [98]\n",
    "   ]\n"
   ]
  }
 ],
 "metadata": {
  "kernelspec": {
   "display_name": "Python 3 (ipykernel)",
   "language": "python",
   "name": "python3"
  },
  "language_info": {
   "codemirror_mode": {
    "name": "ipython",
    "version": 3
   },
   "file_extension": ".py",
   "mimetype": "text/x-python",
   "name": "python",
   "nbconvert_exporter": "python",
   "pygments_lexer": "ipython3",
   "version": "3.10.8"
  }
 },
 "nbformat": 4,
 "nbformat_minor": 5
}
